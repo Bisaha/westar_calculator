{
 "cells": [
  {
   "cell_type": "markdown",
   "metadata": {},
   "source": [
    "# Purpose\n",
    "This was the notebook I originally used for making the demand calculator before converting the code to Javascript. "
   ]
  },
  {
   "cell_type": "markdown",
   "metadata": {},
   "source": [
    "# Original Outline\n",
    "\n",
    "Under the new demand bill you would pay **TKTK** in the Summer.\n",
    "\n",
    "That's **TKTKTK higher/lower** than you would pay under your current Summer bill **(TKTK)**\n",
    "\n",
    "In the winter, you would pay **TKTKTK** -- that's **TKTK higher/lower** than you would pay under your current Winter bill(**TKTK**)\n",
    "\n",
    "Which means I need:\n",
    "* demand bill Summer\n",
    "* absolute value of difference\n",
    "* a higher or lower switch\n",
    "* current summer bill\n",
    "* all of the same for winter\n",
    "\n",
    "Inputs from the user:\n",
    "* demand\n",
    "* volume\n",
    "\n"
   ]
  },
  {
   "cell_type": "markdown",
   "metadata": {},
   "source": [
    "# The variables"
   ]
  },
  {
   "cell_type": "code",
   "execution_count": 9,
   "metadata": {
    "collapsed": true
   },
   "outputs": [],
   "source": [
    "\n",
    "service_fee_current = 14.50\n",
    "service_fee_new = 18.50\n",
    "\n",
    "rider = .040638#same for current and new. This is the rider Westar uses in its calculations but it is a variable that in reality changes over time. \n",
    "\n",
    "#current bill summer and winter rates\n",
    "first_900 = .076833 #same in winter and summer\n",
    "after_900_summer = .084752\n",
    "after_900_winter = .062804\n",
    "\n",
    "# the one rate charged under new bill \n",
    "new_volume_rate = .056234\n",
    "\n",
    "# demand rates for winter and summer\n",
    "demand_rate_summer = 9.45\n",
    "demand_rate_winter = 3.15\n"
   ]
  },
  {
   "cell_type": "markdown",
   "metadata": {},
   "source": [
    "## The functions"
   ]
  },
  {
   "cell_type": "code",
   "execution_count": 4,
   "metadata": {
    "collapsed": false
   },
   "outputs": [],
   "source": [
    "def get_volume_charge(volume,season):\n",
    "    if season.lower() == \"winter\":\n",
    "        after_900_rate = after_900_winter\n",
    "    elif season.lower() == \"summer\":\n",
    "        after_900_rate = after_900_summer\n",
    "    else:\n",
    "        print(\"BREAK!\")\n",
    "        print(\"The season is {} and the rate is {}\".format(season,after_900_rate))\n",
    "    if int(volume) > 900:\n",
    "        first_900 = 900*.076833\n",
    "        remaining = float(volume) - 900\n",
    "        after_900 = remaining*after_900_rate\n",
    "        volume_charge = first_900 + after_900\n",
    "    else:\n",
    "        volume_charge = float(volume) * .076833\n",
    "    return volume_charge"
   ]
  },
  {
   "cell_type": "markdown",
   "metadata": {},
   "source": [
    "# The  Formula"
   ]
  },
  {
   "cell_type": "code",
   "execution_count": 24,
   "metadata": {
    "collapsed": false
   },
   "outputs": [
    {
     "name": "stdout",
     "output_type": "stream",
     "text": [
      "Under the new demand bill you would pay 158.62 in the Summer.\n",
      "That's $25.86 more than your current summer bill ($132.76)\n",
      "In the winter, the new bill would be 127.12\n",
      "That's $5.64 less than your current winter bill ($132.76)\n"
     ]
    }
   ],
   "source": [
    "#volume = float(input(\"volume?\"))\n",
    "#demand = float(input(\"demand?\"))\n",
    "volume = 1000\n",
    "demand = 5\n",
    "\n",
    "rider_charge = rider*volume\n",
    "\n",
    "\n",
    "summer_volume_charge_current = get_volume_charge(volume,\"summer\")\n",
    "current_summer_bill = round(summer_volume_charge_current + service_fee_current + rider_charge,2)\n",
    "\n",
    "winter_volume_charge_current = get_volume_charge(volume,\"summer\")\n",
    "current_winter_bill = round(winter_volume_charge_current +service_fee_current + rider_charge,2)\n",
    "\n",
    "\n",
    "new_volume_charge = volume * new_volume_rate\n",
    "\n",
    "summer_demand_charge = demand_rate_summer * demand\n",
    "\n",
    "new_summer_bill = round(new_volume_charge + service_fee_current + rider_charge + summer_demand_charge,2)\n",
    "\n",
    "winter_demand_charge = demand_rate_winter * demand\n",
    "new_winter_bill = round(new_volume_charge + service_fee_current + rider_charge +winter_demand_charge,2)\n",
    "\n",
    "summer_dif = round(new_summer_bill - current_summer_bill,2)\n",
    "if summer_dif > 0:\n",
    "    summer_dif_line = \"That's ${} more than your current summer bill (${})\".format(summer_dif,current_summer_bill)\n",
    "elif summer_dif < 0:\n",
    "    summer_dif_line = \"That's ${} less than your current summer bill (${})\".format(abs(summer_dif),current_summer_bill)\n",
    "elif summer_dif == 0:\n",
    "    summer_dif_line = \"That's equal to your current summer bill {}\"\n",
    "    \n",
    "winter_dif = round(new_winter_bill - current_winter_bill,2)\n",
    "if winter_dif > 0:\n",
    "    winter_dif_line = \"That's ${} more than your current winter bill (${})\".format(winter_dif,current_winter_bill)\n",
    "elif winter_dif < 0:\n",
    "    winter_dif_line = \"That's ${} less than your current winter bill (${})\".format(abs(winter_dif),current_winter_bill)\n",
    "elif winter_dif == 0:\n",
    "    winter_dif_line = \"That's equal to your current winter bill {}\"\n",
    "\n",
    "\n",
    "\n",
    "print(\"Under the new demand bill you would pay {} in the Summer.\".format(new_summer_bill))\n",
    "print(summer_dif_line)\n",
    "print(\"In the winter, the new bill would be {}\".format(new_winter_bill))\n",
    "print(winter_dif_line)"
   ]
  },
  {
   "cell_type": "code",
   "execution_count": null,
   "metadata": {
    "collapsed": true
   },
   "outputs": [],
   "source": []
  }
 ],
 "metadata": {
  "kernelspec": {
   "display_name": "Python 3",
   "language": "python",
   "name": "python3"
  },
  "language_info": {
   "codemirror_mode": {
    "name": "ipython",
    "version": 3
   },
   "file_extension": ".py",
   "mimetype": "text/x-python",
   "name": "python",
   "nbconvert_exporter": "python",
   "pygments_lexer": "ipython3",
   "version": "3.5.1"
  }
 },
 "nbformat": 4,
 "nbformat_minor": 0
}
